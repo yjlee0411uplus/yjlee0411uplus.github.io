{
 "cells": [
  {
   "cell_type": "markdown",
   "id": "170b42fa",
   "metadata": {},
   "source": [
    "# 과제1. EDA & CDA"
   ]
  },
  {
   "cell_type": "markdown",
   "id": "a725281c",
   "metadata": {},
   "source": [
    "* 직원 이직 여부(attrition)에 영향을 주는 요인을 분석하여 예측 모델을 만들고자 합니다.\n",
    "* 데이터셋: Attrition.CSV\n",
    "* 변수 설명: 과제 및 변수 설명.xlsx 파일 참조\n",
    "* (옵션)으로 표기된 부분은 개인이 선택적으로 수행 가능합니다."
   ]
  },
  {
   "cell_type": "markdown",
   "id": "b773c270",
   "metadata": {},
   "source": [
    "## 1. 준비작업\n",
    "* 필요한 라이브러리 로딩, 데이터셋 가져오기"
   ]
  },
  {
   "cell_type": "code",
   "execution_count": 1,
   "id": "7ed3781d",
   "metadata": {},
   "outputs": [
    {
     "ename": "ModuleNotFoundError",
     "evalue": "No module named 'pandas'",
     "output_type": "error",
     "traceback": [
      "\u001b[0;31m---------------------------------------------------------------------------\u001b[0m",
      "\u001b[0;31mModuleNotFoundError\u001b[0m                       Traceback (most recent call last)",
      "Input \u001b[0;32mIn [1]\u001b[0m, in \u001b[0;36m<module>\u001b[0;34m\u001b[0m\n\u001b[0;32m----> 1\u001b[0m \u001b[38;5;28;01mimport\u001b[39;00m \u001b[38;5;21;01mpandas\u001b[39;00m \u001b[38;5;28;01mas\u001b[39;00m \u001b[38;5;21;01mpd\u001b[39;00m\n\u001b[1;32m      2\u001b[0m \u001b[38;5;28;01mimport\u001b[39;00m \u001b[38;5;21;01mnumpy\u001b[39;00m \u001b[38;5;28;01mas\u001b[39;00m \u001b[38;5;21;01mnp\u001b[39;00m\n\u001b[1;32m      3\u001b[0m \u001b[38;5;28;01mimport\u001b[39;00m \u001b[38;5;21;01mmatplotlib\u001b[39;00m\u001b[38;5;21;01m.\u001b[39;00m\u001b[38;5;21;01mpyplot\u001b[39;00m \u001b[38;5;28;01mas\u001b[39;00m \u001b[38;5;21;01mplt\u001b[39;00m\n",
      "\u001b[0;31mModuleNotFoundError\u001b[0m: No module named 'pandas'"
     ]
    }
   ],
   "source": [
    "import pandas as pd\n",
    "import numpy as np\n",
    "import matplotlib.pyplot as plt\n",
    "import seaborn as sns\n",
    "from statsmodels.graphics.mosaicplot import mosaic\n",
    "from scipy import stats as spst"
   ]
  },
  {
   "cell_type": "code",
   "execution_count": null,
   "id": "59260f63",
   "metadata": {},
   "outputs": [],
   "source": [
    "# mobile data\n",
    "data_path = \"https://raw.githubusercontent.com/DA4BAM/dataset/master/mobile_NA2.csv\"\n",
    "mobile = pd.read_csv(data_path)"
   ]
  },
  {
   "cell_type": "markdown",
   "id": "7db7e439",
   "metadata": {},
   "source": [
    "## 2. 단변량 분석\n",
    "* 숫자형, 범주형에 맞게 단변량 분석을 수행합니다.\n",
    "* 기초 통계량과 그래프를 통해 데이터 분포를 파악합니다.\n",
    "* NA와 이상치에 대해서 확인합니다."
   ]
  },
  {
   "cell_type": "code",
   "execution_count": null,
   "id": "a8e2378e",
   "metadata": {},
   "outputs": [],
   "source": [
    "cols_drop=['id']\n",
    "cols_use = list(mobile)[1:]"
   ]
  },
  {
   "cell_type": "code",
   "execution_count": null,
   "id": "c6b85ffb",
   "metadata": {},
   "outputs": [],
   "source": [
    "cols_use"
   ]
  },
  {
   "cell_type": "code",
   "execution_count": null,
   "id": "55b5ccd5",
   "metadata": {},
   "outputs": [],
   "source": [
    "cols_ca, cols_nu = [], []"
   ]
  },
  {
   "cell_type": "markdown",
   "id": "fb3f7323",
   "metadata": {},
   "source": [
    "### 1)COLLEGE"
   ]
  },
  {
   "cell_type": "code",
   "execution_count": null,
   "id": "6e9c3ba9",
   "metadata": {},
   "outputs": [],
   "source": [
    "cols_use[0]"
   ]
  },
  {
   "cell_type": "code",
   "execution_count": null,
   "id": "6ae75504",
   "metadata": {},
   "outputs": [],
   "source": [
    "var = cols_use[0]\n",
    "temp = mobile[var]\n",
    "# 1. 이 변수는 무엇을 뜻하는가?\n",
    "print('1. 의미: 대학졸업 여부')\n",
    "print('--------------------')\n",
    "\n",
    "# 2. Category or Numeric?\n",
    "print('2. 자료의 종류: 범주형')\n",
    "print('변수 안의 유니크한 값들, temp.unique()')\n",
    "cols_ca.append(var)\n",
    "print('--------------------')\n",
    "\n",
    "# 3. 빈값(NaN)\n",
    "print(\"3. NaN:빈값은 {}개({}%) 존재합니다.\".format(temp.isna().sum(), temp.isna().sum()/len(temp) *100))"
   ]
  },
  {
   "cell_type": "code",
   "execution_count": null,
   "id": "7d233c1a",
   "metadata": {},
   "outputs": [],
   "source": [
    "# 4. 통계 요약 or 시각화\n",
    "print('4. 통계 요약 or 시각화')\n",
    "vc = temp.value_counts()\n",
    "vc_prop = temp.value_counts() / temp_count()\n",
    "print(pd.concat([vc, vc_prop], axis=1))\n",
    "\n",
    "plt.figure(figsize=(5,5))\n",
    "plt.bar(x=vc.index, height=vc)\n",
    "plt.show()\n",
    "print(\"대학 졸업여부 두가지 범주는 거의 1:1 입니다.\")\n",
    "print(\"데이터를 1:1로 맞춘 것으로 보입니다.\")\n",
    "print('--------------------')\n",
    "\n",
    "# 5. Feature Engineering 검토 대상 여부\n",
    "print('5. FE 검토 대상: Feature Engineering 검토 대상이 아닙니다.')\n",
    "print('--------------------')\n",
    "\n",
    "# 6. 가변수화\n",
    "print('6. 가변수화: 이미 0,1로 인코딩 되어 있습니다. ')"
   ]
  },
  {
   "cell_type": "markdown",
   "id": "8fbc761f",
   "metadata": {},
   "source": [
    "### 2) INCOME"
   ]
  },
  {
   "cell_type": "code",
   "execution_count": null,
   "id": "e4b6c5b7",
   "metadata": {},
   "outputs": [],
   "source": [
    "var = cols_use[1]\n",
    "temp = mobile[var]\n",
    "# 1. 이 변수는 무엇을 뜻하는가?\n",
    "print('1. 의미: 연 소득액')\n",
    "print('--------------------')\n",
    "\n",
    "# 2. Category or Numeric?\n",
    "print('2. 자료의 종류: 숫자형')\n",
    "cols_nu.append(var)\n",
    "print('--------------------')\n",
    "\n",
    "# 3. 빈값(NaN)\n",
    "print(\"3. 빈값은 {}개({}%) 존재합니다.\"format(temp.isna().sum(), temp.isna().sum()/len(temp) * 100)"
   ]
  },
  {
   "cell_type": "code",
   "execution_count": null,
   "id": "917bf413",
   "metadata": {},
   "outputs": [],
   "source": [
    "# 4. 통계 요약 or 시각화\n",
    "print('4. 통계 요약 or 시각화')\n",
    "print(temp.describe())\n",
    "\n",
    "plt.figure(figsize=(5,5))\n",
    "sns.distplot(mobile[var], kde=True,\n",
    "             hist=True, bins=30,\n",
    "             hist_kws={'edgecolor':'grey'}) #히스토그램 경계선 색깔 세팅\n",
    "plt.show()\n",
    "plt.boxplot(mobile[var], vert=0)\n",
    "plt.show()\n",
    "print('50000달러를 기준으로 분포가 조금 구분됨')\n",
    "print('--------------------')\n",
    "\n",
    "# 5. Feature Engineering 검토 대상 여부\n",
    "print('5. FE 검토 대상:50000만 달러 기준으로 1,0로 구분할 지 고려')\n",
    "print('--------------------')\n",
    "\n",
    "# 6. 가변수화\n",
    "print('6. 가변수화: 불필요')"
   ]
  },
  {
   "cell_type": "markdown",
   "id": "b844b8a4",
   "metadata": {},
   "source": [
    "### 3) OVERAGE"
   ]
  },
  {
   "cell_type": "code",
   "execution_count": null,
   "id": "ed876bb9",
   "metadata": {},
   "outputs": [],
   "source": [
    "cols_use[2]"
   ]
  },
  {
   "cell_type": "code",
   "execution_count": null,
   "id": "56635314",
   "metadata": {},
   "outputs": [],
   "source": [
    "var = cols_use[2]\n",
    "temp = mobile[var]\n",
    "\n",
    "# 1. 이 변수는 무엇을 뜻하는가?\n",
    "print('1.의미: 월 초과사용시간(분)')\n",
    "print('--------------------')\n",
    "\n",
    "# 2. Category or Numeric?\n",
    "print('2. 자료의 종류: 숫자형')\n",
    "cols_nu.append(var)\n",
    "print('--------------------')\n",
    "\n",
    "# 3. 빈값(NaN)\n",
    "print(\"3. NaN: 빈값은 {}개({}%) 존재합니다.\".format(temp.isna().sum(), temp.isna().sum()/len(temp) *100))"
   ]
  },
  {
   "cell_type": "code",
   "execution_count": null,
   "id": "447dbe44",
   "metadata": {},
   "outputs": [],
   "source": [
    "# 4. 통계 요약 or 시각화\n",
    "print('4. 통계 요약 or 시각화')\n",
    "print(temp.describe())\n",
    "\n",
    "plt.figure(figsize=(5,5))\n",
    "sns.distplot(mobile[var], kde = True,\n",
    "            hist = True, bins = 30,\n",
    "            hist_kws={'edgecolor':'grey'}) # 히스토그램 경계선 색깔 세팅\n",
    "plt.show()\n",
    "pltboxplot(mobile[var], vert = 0)\n",
    "plt.show()\n",
    "print('분포가 3가지로 나뉨! 초과사용 안 하는 사람, 60분 중심, 200분 중심')\n",
    "print('초과 사용 시 60분, 200분 서비스/요금제가 있는가?')\n",
    "\n",
    "print('--------------------')\n",
    "\n",
    "# 5. Feature Engineering 검토 대상 여부\n",
    "print('5. FE 검토 대상:3가지 분포로 나눌지 검토')\n",
    "print('--------------------')\n",
    "\n",
    "# 6. 가변수화\n",
    "print('6. 가변수화: 불필요')"
   ]
  },
  {
   "cell_type": "markdown",
   "id": "5a200c79",
   "metadata": {},
   "source": [
    "### 4) LEFTOVER"
   ]
  },
  {
   "cell_type": "code",
   "execution_count": null,
   "id": "c9db188c",
   "metadata": {},
   "outputs": [],
   "source": [
    "cols_use[3]"
   ]
  },
  {
   "cell_type": "code",
   "execution_count": null,
   "id": "810c519b",
   "metadata": {},
   "outputs": [],
   "source": [
    "var = cols_use[3]\n",
    "temp = mobile[var]\n",
    "\n",
    "# 1. 이 변수는 무엇을 뜻하는가?\n",
    "print('1.의미: 월 남는 비율')\n",
    "print('--------------------')\n",
    "\n",
    "# 2. Category or Numeric?\n",
    "print('2. 자료의 종류: 숫자형')\n",
    "cols_nu.append(var)\n",
    "print('--------------------')\n",
    "\n",
    "# 3. 빈값(NaN)\n",
    "print(\"3. NaN: 빈값은 {}개({}%) 존재합니다.\".format(temp.isna().sum(), temp.isna().sum()/len(temp) *100))"
   ]
  },
  {
   "cell_type": "code",
   "execution_count": null,
   "id": "bbbcccdc",
   "metadata": {},
   "outputs": [],
   "source": [
    "# 4. 통계 요약 or 시각화\n",
    "print('4. 통계 요약 or 시각화')\n",
    "print(temp.describe())\n",
    "print('0~89%, 값은 %를 의미')\n",
    "plt.figure(figsize=(5,5))\n",
    "sns.distplot(mobile[var], kde = True,\n",
    "            hist = True, bins = 30,\n",
    "            hist_kws={'edgecolor':'grey'}) # 히스토그램 경계선 색깔 세팅\n",
    "plt.show()\n",
    "pltboxplot(mobile[var], vert = 0)\n",
    "plt.show()\n",
    "print('남는 시간이 없는 사람과 있는 사람 구분 필요')\n",
    "\n",
    "print('--------------------')\n",
    "\n",
    "# 5. Feature Engineering 검토 대상 여부\n",
    "print('5. FE 검토 대상: 남는 사람인지 아닌지(범주), 얼마나 남는지(숫자)')\n",
    "print('--------------------')\n",
    "\n",
    "# 6. 가변수화\n",
    "print('6. 가변수화: 불필요')"
   ]
  },
  {
   "cell_type": "markdown",
   "id": "0668661c",
   "metadata": {},
   "source": [
    "### 5) HOUSE"
   ]
  },
  {
   "cell_type": "code",
   "execution_count": null,
   "id": "b54f4616",
   "metadata": {},
   "outputs": [],
   "source": [
    "cols_use[4]"
   ]
  },
  {
   "cell_type": "code",
   "execution_count": null,
   "id": "e7bfc29f",
   "metadata": {},
   "outputs": [],
   "source": [
    "var = cols_use[4]\n",
    "temp = mobile[var]\n",
    "\n",
    "# 1. 이 변수는 무엇을 뜻하는가?\n",
    "print('1.의미: 고객의 집 가격')\n",
    "print('--------------------')\n",
    "\n",
    "# 2. Category or Numeric?\n",
    "print('2. 자료의 종류: 숫자형')\n",
    "cols_nu.append(var)\n",
    "print('--------------------')\n",
    "\n",
    "# 3. 빈값(NaN)\n",
    "print(\"3. NaN: 빈값은 {}개({}%) 존재합니다.\".format(temp.isna().sum(), temp.isna().sum()/len(temp) *100))\n",
    "print(\"NaN 조치 전략: knn Impute, 적용 순서는 제일 마지막\")"
   ]
  },
  {
   "cell_type": "code",
   "execution_count": null,
   "id": "2aaa7f3b",
   "metadata": {},
   "outputs": [],
   "source": [
    "# 4. 통계 요약 or 시각화\n",
    "print('4. 통계 요약 or 시각화')\n",
    "print(temp.describe())\n",
    "\n",
    "plt.figure(figsize=(5,5))\n",
    "sns.distplot(mobile[var], kde = True,\n",
    "            hist = True, bins = 30,\n",
    "            hist_kws={'edgecolor':'grey'}) # 히스토그램 경계선 색깔 세팅\n",
    "plt.show()\n",
    "pltboxplot(mobile.loc[mobile[var].notnull(), var], vert = 0)\n",
    "plt.show()\n",
    "print('30만 달러를 기준으로 분포가 구분됨')\n",
    "\n",
    "print('--------------------')\n",
    "\n",
    "# 5. Feature Engineering 검토 대상 여부\n",
    "print('5. FE 검토 대상: 30만달러 기준으로 범주형 변수로')\n",
    "print('--------------------')\n",
    "\n",
    "# 6. 가변수화\n",
    "print('6. 가변수화: 불필요')"
   ]
  },
  {
   "cell_type": "markdown",
   "id": "aee48c39",
   "metadata": {},
   "source": [
    "### 6) HANDSET_PRICE"
   ]
  },
  {
   "cell_type": "code",
   "execution_count": null,
   "id": "a611f364",
   "metadata": {},
   "outputs": [],
   "source": [
    "cols_use[5]"
   ]
  },
  {
   "cell_type": "code",
   "execution_count": null,
   "id": "2b37ac90",
   "metadata": {},
   "outputs": [],
   "source": [
    "var = cols_use[5]\n",
    "temp = mobile[var]\n",
    "\n",
    "# 1. 이 변수는 무엇을 뜻하는가?\n",
    "print('1.의미: 핸드폰 가격')\n",
    "print('--------------------')\n",
    "\n",
    "# 2. Category or Numeric?\n",
    "print('2. 자료의 종류: 숫자형')\n",
    "cols_nu.append(var)\n",
    "print('--------------------')\n",
    "\n",
    "# 3. 빈값(NaN)\n",
    "print(\"3. NaN: 빈값은 {}개({}%) 존재합니다.\".format(temp.isna().sum(), temp.isna().sum()/len(temp) *100))"
   ]
  },
  {
   "cell_type": "code",
   "execution_count": null,
   "id": "d4cc5c5e",
   "metadata": {},
   "outputs": [],
   "source": [
    "# 4. 통계 요약 or 시각화\n",
    "print('4. 통계 요약 or 시각화')\n",
    "print(temp.describe())\n",
    "\n",
    "plt.figure(figsize=(5,5))\n",
    "sns.distplot(mobile[var], kde = True,\n",
    "            hist = True, bins = 30,\n",
    "            hist_kws={'edgecolor':'grey'}) # 히스토그램 경계선 색깔 세팅\n",
    "plt.show()\n",
    "pltboxplot(mobile.loc[mobile[var].notnull(), var], vert = 0)\n",
    "plt.show()\n",
    "print('400달러를 기준으로 분포가 구분됨')\n",
    "\n",
    "print('--------------------')\n",
    "\n",
    "# 5. Feature Engineering 검토 대상 여부\n",
    "print('5. FE 검토 대상: 400달러 기준으로 범주형 변수로')\n",
    "print('--------------------')\n",
    "\n",
    "# 6. 가변수화\n",
    "print('6. 가변수화: 불필요')"
   ]
  },
  {
   "cell_type": "markdown",
   "id": "5264fb8e",
   "metadata": {},
   "source": [
    "### 7) OVER_15MINS_CALLS_PER_MONTH"
   ]
  },
  {
   "cell_type": "code",
   "execution_count": null,
   "id": "7df31972",
   "metadata": {},
   "outputs": [],
   "source": [
    "cols_use[6]"
   ]
  },
  {
   "cell_type": "code",
   "execution_count": null,
   "id": "ce62d2bc",
   "metadata": {},
   "outputs": [],
   "source": [
    "var = cols_use[6]\n",
    "temp = mobile[var]\n",
    "\n",
    "# 1. 이 변수는 무엇을 뜻하는가?\n",
    "print('1.의미: 월평균 15분 이상 긴 통화 횟수')\n",
    "print('--------------------')\n",
    "\n",
    "# 2. Category or Numeric?\n",
    "print('2. 자료의 종류: 숫자형')\n",
    "cols_nu.append(var)\n",
    "print('--------------------')\n",
    "\n",
    "# 3. 빈값(NaN)\n",
    "print(\"3. NaN: 빈값은 {}개({}%) 존재합니다.\".format(temp.isna().sum(), temp.isna().sum()/len(temp) *100))"
   ]
  },
  {
   "cell_type": "code",
   "execution_count": null,
   "id": "fe8c24e9",
   "metadata": {},
   "outputs": [],
   "source": [
    "# 4. 통계 요약 or 시각화\n",
    "print('4. 통계 요약 or 시각화')\n",
    "print(temp.describe())\n",
    "\n",
    "plt.figure(figsize=(5,5))\n",
    "sns.distplot(mobile[var], kde = True,\n",
    "            hist = True, bins = 30,\n",
    "            hist_kws={'edgecolor':'grey'}) # 히스토그램 경계선 색깔 세팅\n",
    "plt.show()\n",
    "pltboxplot(mobile.loc[mobile[var].notnull(), var], vert = 0)\n",
    "plt.show()\n",
    "print('5회 전후로 분포가 구분됨')\n",
    "\n",
    "print('--------------------')\n",
    "\n",
    "# 5. Feature Engineering 검토 대상 여부\n",
    "print('5. FE 검토 대상: 5회 전후로 범주형 변수로')\n",
    "print('--------------------')\n",
    "\n",
    "# 6. 가변수화\n",
    "print('6. 가변수화: 불필요')"
   ]
  },
  {
   "cell_type": "markdown",
   "id": "713577ea",
   "metadata": {},
   "source": [
    "### 8) AVERAGE_CALL_DURATION"
   ]
  },
  {
   "cell_type": "code",
   "execution_count": null,
   "id": "4ca7900e",
   "metadata": {},
   "outputs": [],
   "source": [
    "cols_use[7]"
   ]
  },
  {
   "cell_type": "code",
   "execution_count": null,
   "id": "d941e0a0",
   "metadata": {},
   "outputs": [],
   "source": [
    "var = cols_use[7]\n",
    "temp = mobile[var]\n",
    "\n",
    "# 1. 이 변수는 무엇을 뜻하는가?\n",
    "print('1.의미: 평균 통화 시간(분)')\n",
    "print('--------------------')\n",
    "\n",
    "# 2. Category or Numeric?\n",
    "print('2. 자료의 종류: 숫자형')\n",
    "cols_nu.append(var)\n",
    "print('--------------------')\n",
    "\n",
    "# 3. 빈값(NaN)\n",
    "print(\"3. NaN: 빈값은 {}개({}%) 존재합니다.\".format(temp.isna().sum(), temp.isna().sum()/len(temp) *100))"
   ]
  },
  {
   "cell_type": "code",
   "execution_count": null,
   "id": "6cadaa93",
   "metadata": {},
   "outputs": [],
   "source": [
    "# 4. 통계 요약 or 시각화\n",
    "print('4. 통계 요약 or 시각화')\n",
    "print(temp.describe())\n",
    "\n",
    "plt.figure(figsize=(5,5))\n",
    "sns.distplot(mobile[var], kde = True,\n",
    "            hist = True, bins = 30,\n",
    "            hist_kws={'edgecolor':'grey'}) # 히스토그램 경계선 색깔 세팅\n",
    "plt.show()\n",
    "pltboxplot(mobile.loc[mobile[var].notnull(), var], vert = 0)\n",
    "plt.show()\n",
    "print('3분, 7분으로 구분됨')\n",
    "\n",
    "print('--------------------')\n",
    "\n",
    "# 5. Feature Engineering 검토 대상 여부\n",
    "print('5. FE 검토 대상: 3분, 7분으로 구분됨')\n",
    "print('--------------------')\n",
    "\n",
    "# 6. 가변수화\n",
    "print('6. 가변수화: 불필요')"
   ]
  },
  {
   "cell_type": "markdown",
   "id": "fb63e61d",
   "metadata": {},
   "source": [
    "### 9) REPORTED_SATISFACTION"
   ]
  },
  {
   "cell_type": "code",
   "execution_count": null,
   "id": "b2b65bf7",
   "metadata": {},
   "outputs": [],
   "source": [
    "cols_use[8]"
   ]
  },
  {
   "cell_type": "code",
   "execution_count": null,
   "id": "acb0c89d",
   "metadata": {},
   "outputs": [],
   "source": [
    "var = cols_use[8]\n",
    "temp = mobile[var]\n",
    "\n",
    "# 1. 이 변수는 무엇을 뜻하는가?\n",
    "print('1.의미: 만족도 조사')\n",
    "print('--------------------')\n",
    "\n",
    "# 2. Category or Numeric?\n",
    "print('2. 자료의 종류: 범주형')\n",
    "print('변수 안의 유니크한 값들', temp.unique())\n",
    "cols_ca.append(var)\n",
    "print('--------------------')\n",
    "\n",
    "# 3. 빈값(NaN)\n",
    "print(\"3. NaN: 빈값은 {}개({}%) 존재합니다.\".format(temp.isna().sum(), temp.isna().sum()/len(temp) *100))\n",
    "print('NaN은 중앙 범주에 해당하는 \"avg\"로 채우기')"
   ]
  },
  {
   "cell_type": "markdown",
   "id": "ba742bbd",
   "metadata": {},
   "source": [
    "## 3. 이변량 분석\n",
    "* 자료의 종류에 맞게 X --> Y 에 대해서 그래프(시각화)와 가설검정(수치화)를 수행하고 결과를 평가합니다.\n",
    "* 가설검정 시 다음의 항목을 참조하여 수행합니다.\n",
    "* 유의수준:5%\n",
    "* 숫자 --> 숫자: 상관분석\n",
    "* 범주 --> 범주: 카이제곱검정\n",
    "* 범주 --> 숫자: t검정, 분산분석\n",
    "* 숫자 --> 범주: 로지스틱 회귀모형을 통해, 회귀계수의 P.value로 검정을 수행합니다.\n",
    "* (옵션) 자료에 대한 가정 검정.(정규성, 등분산성 등)"
   ]
  },
  {
   "cell_type": "code",
   "execution_count": null,
   "id": "93c95dcd",
   "metadata": {},
   "outputs": [],
   "source": []
  },
  {
   "cell_type": "code",
   "execution_count": null,
   "id": "489a8324",
   "metadata": {},
   "outputs": [],
   "source": []
  },
  {
   "cell_type": "code",
   "execution_count": null,
   "id": "cd951b77",
   "metadata": {},
   "outputs": [],
   "source": []
  },
  {
   "cell_type": "code",
   "execution_count": null,
   "id": "d11ec8c0",
   "metadata": {},
   "outputs": [],
   "source": []
  },
  {
   "cell_type": "code",
   "execution_count": null,
   "id": "b317c19d",
   "metadata": {},
   "outputs": [],
   "source": []
  },
  {
   "cell_type": "code",
   "execution_count": null,
   "id": "fe881514",
   "metadata": {},
   "outputs": [],
   "source": []
  },
  {
   "cell_type": "code",
   "execution_count": null,
   "id": "92acb82c",
   "metadata": {},
   "outputs": [],
   "source": []
  },
  {
   "cell_type": "code",
   "execution_count": null,
   "id": "8e71d615",
   "metadata": {},
   "outputs": [],
   "source": []
  },
  {
   "cell_type": "markdown",
   "id": "0f05e22e",
   "metadata": {},
   "source": [
    "## 4. Y와의 관계 정리\n",
    "이변량 분석을 통해서 파악한 내용을 바탕으로 feature들을 다음의 세 그룹으로 정리해 봅시다"
   ]
  },
  {
   "cell_type": "markdown",
   "id": "efdc4270",
   "metadata": {},
   "source": [
    "### 4.1 Y와 강한 관계의 feature"
   ]
  },
  {
   "cell_type": "markdown",
   "id": "015de3e3",
   "metadata": {},
   "source": [
    "### 4.2 Y와 약한 관계의 feature"
   ]
  },
  {
   "cell_type": "markdown",
   "id": "361ad4f9",
   "metadata": {},
   "source": [
    "### 4.3 Y와 관계가 없는 feature"
   ]
  },
  {
   "cell_type": "code",
   "execution_count": null,
   "id": "33cc3747",
   "metadata": {},
   "outputs": [],
   "source": []
  }
 ],
 "metadata": {
  "kernelspec": {
   "display_name": "Python 3 (ipykernel)",
   "language": "python",
   "name": "python3"
  },
  "language_info": {
   "codemirror_mode": {
    "name": "ipython",
    "version": 3
   },
   "file_extension": ".py",
   "mimetype": "text/x-python",
   "name": "python",
   "nbconvert_exporter": "python",
   "pygments_lexer": "ipython3",
   "version": "3.8.10"
  }
 },
 "nbformat": 4,
 "nbformat_minor": 5
}
