{
 "cells": [
  {
   "cell_type": "markdown",
   "id": "170b42fa",
   "metadata": {},
   "source": [
    "# 과제1. EDA & CDA"
   ]
  },
  {
   "cell_type": "markdown",
   "id": "a725281c",
   "metadata": {},
   "source": [
    "* 직원 이직 여부(attrition)에 영향을 주는 요인을 분석하여 예측 모델을 만들고자 합니다.\n",
    "* 데이터셋: Attrition.CSV\n",
    "* 변수 설명: 과제 및 변수 설명.xlsx 파일 참조\n",
    "* (옵션)으로 표기된 부분은 개인이 선택적으로 수행 가능합니다."
   ]
  },
  {
   "cell_type": "markdown",
   "id": "b773c270",
   "metadata": {},
   "source": [
    "## 1. 준비작업\n",
    "* 필요한 라이브러리 로딩, 데이터셋 가져오기"
   ]
  },
  {
   "cell_type": "code",
   "execution_count": null,
   "id": "7ed3781d",
   "metadata": {},
   "outputs": [],
   "source": []
  },
  {
   "cell_type": "code",
   "execution_count": null,
   "id": "779076fc",
   "metadata": {},
   "outputs": [],
   "source": []
  },
  {
   "cell_type": "code",
   "execution_count": null,
   "id": "f667a81d",
   "metadata": {},
   "outputs": [],
   "source": []
  },
  {
   "cell_type": "markdown",
   "id": "7db7e439",
   "metadata": {},
   "source": [
    "## 2. 단변량 분석\n",
    "* 숫자형, 범주형에 맞게 단변량 분석을 수행합니다.\n",
    "* 기초 통계량과 그래프를 통해 데이터 분포를 파악합니다.\n",
    "* NA와 이상치에 대해서 확인합니다."
   ]
  },
  {
   "cell_type": "code",
   "execution_count": null,
   "id": "a8e2378e",
   "metadata": {},
   "outputs": [],
   "source": []
  },
  {
   "cell_type": "code",
   "execution_count": null,
   "id": "c6b85ffb",
   "metadata": {},
   "outputs": [],
   "source": []
  },
  {
   "cell_type": "code",
   "execution_count": null,
   "id": "55b5ccd5",
   "metadata": {},
   "outputs": [],
   "source": []
  },
  {
   "cell_type": "code",
   "execution_count": null,
   "id": "d86a0c8f",
   "metadata": {},
   "outputs": [],
   "source": []
  },
  {
   "cell_type": "code",
   "execution_count": null,
   "id": "6e9c3ba9",
   "metadata": {},
   "outputs": [],
   "source": []
  },
  {
   "cell_type": "code",
   "execution_count": null,
   "id": "6ae75504",
   "metadata": {},
   "outputs": [],
   "source": []
  },
  {
   "cell_type": "markdown",
   "id": "ba742bbd",
   "metadata": {},
   "source": [
    "## 3. 이변량 분석\n",
    "* 자료의 종류에 맞게 X --> Y 에 대해서 그래프(시각화)와 가설검정(수치화)를 수행하고 결과를 평가합니다.\n",
    "* 가설검정 시 다음의 항목을 참조하여 수행합니다.\n",
    "* 유의수준:5%\n",
    "* 숫자 --> 숫자: 상관분석\n",
    "* 범주 --> 범주: 카이제곱검정\n",
    "* 범주 --> 숫자: t검정, 분산분석\n",
    "* 숫자 --> 범주: 로지스틱 회귀모형을 통해, 회귀계수의 P.value로 검정을 수행합니다.\n",
    "* (옵션) 자료에 대한 가정 검정.(정규성, 등분산성 등)"
   ]
  },
  {
   "cell_type": "code",
   "execution_count": null,
   "id": "489a8324",
   "metadata": {},
   "outputs": [],
   "source": []
  },
  {
   "cell_type": "code",
   "execution_count": null,
   "id": "cd951b77",
   "metadata": {},
   "outputs": [],
   "source": []
  },
  {
   "cell_type": "code",
   "execution_count": null,
   "id": "d11ec8c0",
   "metadata": {},
   "outputs": [],
   "source": []
  },
  {
   "cell_type": "code",
   "execution_count": null,
   "id": "b317c19d",
   "metadata": {},
   "outputs": [],
   "source": []
  },
  {
   "cell_type": "code",
   "execution_count": null,
   "id": "fe881514",
   "metadata": {},
   "outputs": [],
   "source": []
  },
  {
   "cell_type": "code",
   "execution_count": null,
   "id": "92acb82c",
   "metadata": {},
   "outputs": [],
   "source": []
  },
  {
   "cell_type": "code",
   "execution_count": null,
   "id": "8e71d615",
   "metadata": {},
   "outputs": [],
   "source": []
  },
  {
   "cell_type": "markdown",
   "id": "0f05e22e",
   "metadata": {},
   "source": [
    "## 4. Y와의 관계 정리\n",
    "이변량 분석을 통해서 파악한 내용을 바탕으로 feature들을 다음의 세 그룹으로 정리해 봅시다"
   ]
  },
  {
   "cell_type": "markdown",
   "id": "efdc4270",
   "metadata": {},
   "source": [
    "### 4.1 Y와 강한 관계의 feature"
   ]
  },
  {
   "cell_type": "markdown",
   "id": "015de3e3",
   "metadata": {},
   "source": [
    "### 4.2 Y와 약한 관계의 feature"
   ]
  },
  {
   "cell_type": "markdown",
   "id": "361ad4f9",
   "metadata": {},
   "source": [
    "### 4.3 Y와 관계가 없는 feature"
   ]
  },
  {
   "cell_type": "code",
   "execution_count": null,
   "id": "33cc3747",
   "metadata": {},
   "outputs": [],
   "source": []
  }
 ],
 "metadata": {
  "kernelspec": {
   "display_name": "Python 3 (ipykernel)",
   "language": "python",
   "name": "python3"
  },
  "language_info": {
   "codemirror_mode": {
    "name": "ipython",
    "version": 3
   },
   "file_extension": ".py",
   "mimetype": "text/x-python",
   "name": "python",
   "nbconvert_exporter": "python",
   "pygments_lexer": "ipython3",
   "version": "3.8.10"
  }
 },
 "nbformat": 4,
 "nbformat_minor": 5
}
